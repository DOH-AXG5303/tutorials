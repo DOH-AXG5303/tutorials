{
 "cells": [
  {
   "cell_type": "code",
   "execution_count": null,
   "id": "b89ffabb-b93a-4b46-9d4b-10cf4841e57f",
   "metadata": {},
   "outputs": [],
   "source": [
    "import pyodbc\n",
    "import pandas as pd\n",
    "from sqlalchemy.engine import URL\n",
    "from sqlalchemy import create_engine\n"
   ]
  },
  {
   "cell_type": "code",
   "execution_count": null,
   "id": "b6265aa0-fc7e-4362-aae6-1e316e2d756c",
   "metadata": {},
   "outputs": [],
   "source": [
    "connection_string = \"\"\"\n",
    "    Driver={SQL Server};\n",
    "    Server=WDRSDBPR,9799;\n",
    "    Database=WDRS;\n",
    "    Trusted_Connection=yes;\n",
    "    \"\"\"\n",
    "\n",
    "sql_elr = \"\"\"\n",
    "    select distinct\n",
    "    CASE_ID,\n",
    "    CREATE_DATE,\n",
    "    FIRST_NAME,\n",
    "    LAST_NAME,\n",
    "    PATIENT__DATE__OF__BIRTH,\n",
    "    PATIENT__AGE,\n",
    "    PATIENT__ADDRESS__COUNTY,\n",
    "    PATIENT__RACE,\n",
    "    WDRS__LAB__RACE,\n",
    "    WDRS__LAB__RACE__SPECIFY,\n",
    "    WDRS__LAB__ETHNICITY,\n",
    "    WDRS__LAB__ETHNICITY__SPECIFY,\n",
    "    PATIENT__ETHNICITY,\n",
    "    SUBMITTER,\n",
    "    SPECIMEN__COLLECTION__DTTM,\n",
    "    SPECIMEN__RECEIVED__DTTM,\n",
    "    RESULT__REPORT__DTTM,\n",
    "    TEST__PERFORMED__DESC,\n",
    "    OBSERVATION__DTTM,\n",
    "    ANALYSIS__DTTM,\n",
    "    TEST__RESULT\n",
    "    from\n",
    "    DD_ELR_DD_ENTIRE_VALUES\n",
    "    where\n",
    "    CODE = 'RARE'\n",
    "    AND\n",
    "    (TEST__PERFORMED__DESC\n",
    "    LIKE\n",
    "    '%monkeypox%' \n",
    "    OR\n",
    "     TEST__PERFORMED__DESC\n",
    "    LIKE \n",
    "    '%orthopox%')\n",
    "    \"\"\"\n",
    "\n",
    "sql_rare_dz = \"\"\"\n",
    "    select \n",
    "    CASE_ID,\n",
    "    RARE_DISEASE_PUBLIC_HEALTH_SIGNIFICANCE\n",
    "    from\n",
    "    DD_GCD_WIZARD_ZOONOTIC_C \n",
    "    where\n",
    "    CODE = 'RARE'\n",
    "    AND\n",
    "    RARE_DISEASE_PUBLIC_HEALTH_SIGNIFICANCE\n",
    "    LIKE\n",
    "    '%monkeypox%'\n",
    "    \"\"\"\n",
    "\n",
    "sql_patient_info = \"\"\"\n",
    "    select *\n",
    "    from\n",
    "    DD_GCD_CORE_EXPORT_EXCLUDE_COVID\n",
    "    where\n",
    "    DISEASE ='Rare disease of PH importance'\n",
    "    \"\"\"\n",
    "\n",
    "\n",
    "connection_url = URL.create(\"mssql+pyodbc\", query={\"odbc_connect\": connection_string})\n",
    "engine = create_engine(connection_url)\n"
   ]
  },
  {
   "cell_type": "code",
   "execution_count": null,
   "id": "b6241e4c-c918-4de1-8124-1edf05879f4f",
   "metadata": {},
   "outputs": [],
   "source": [
    "df_elr = pd.read_sql_query(sql_elr, con = engine)"
   ]
  },
  {
   "cell_type": "code",
   "execution_count": null,
   "id": "ebc2fe2d-54c0-4e11-b36c-e5fe724f7bbf",
   "metadata": {},
   "outputs": [],
   "source": [
    "df_raredz = pd.read_sql_query(sql_rare_dz, con = engine)"
   ]
  },
  {
   "cell_type": "code",
   "execution_count": null,
   "id": "715c7c3e-3a9d-4ee6-a277-1ae3afa39bb9",
   "metadata": {},
   "outputs": [],
   "source": [
    "df_patient_info = pd.read_sql_query(sql_patient_info, con = engine)"
   ]
  }
 ],
 "metadata": {
  "kernelspec": {
   "display_name": "Python [conda env:transform22] *",
   "language": "python",
   "name": "conda-env-transform22-py"
  },
  "language_info": {
   "codemirror_mode": {
    "name": "ipython",
    "version": 3
   },
   "file_extension": ".py",
   "mimetype": "text/x-python",
   "name": "python",
   "nbconvert_exporter": "python",
   "pygments_lexer": "ipython3",
   "version": "3.9.12"
  }
 },
 "nbformat": 4,
 "nbformat_minor": 5
}
