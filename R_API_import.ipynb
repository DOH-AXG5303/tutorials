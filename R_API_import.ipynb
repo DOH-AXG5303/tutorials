{
 "cells": [
  {
   "cell_type": "code",
   "execution_count": null,
   "id": "0c9e96fe-50d6-46c5-9c18-dba354a09c58",
   "metadata": {},
   "outputs": [],
   "source": [
    "library(httr)\n",
    "\n",
    "url <- 'https://qa-redcap.doh.wa.gov/api/'\n",
    "\n",
    "formData <- list(token='1D4B2F0ED2500C255CDEDA2F159E7725',\n",
    "                 content='record',\n",
    "                 format='csv',\n",
    "                 returnFormat='csv',\n",
    "                 rawOrLabel = 'raw'\n",
    ")\n",
    "\n",
    "data <- httr::POST(url, body = formData)\n",
    "data <- httr::content(data)"
   ]
  },
  {
   "cell_type": "code",
   "execution_count": 11,
   "id": "b7324b9a-16ca-4fff-9b0f-dcdda34f5734",
   "metadata": {},
   "outputs": [],
   "source": [
    "data['inq_fac_name'] <- \"R_API_import_test\"\n",
    "data['inq_org_name'] <- \"R_API_import_test_clm2\""
   ]
  },
  {
   "cell_type": "code",
   "execution_count": 13,
   "id": "50be83c1-2cda-4032-95d8-c7af2b9da029",
   "metadata": {},
   "outputs": [],
   "source": [
    "df_import <- data[c('inq_fac_name', 'record_id', 'inq_org_name')]"
   ]
  },
  {
   "cell_type": "code",
   "execution_count": 18,
   "id": "8e730d75-8963-4b96-a721-ed145ad4095d",
   "metadata": {},
   "outputs": [],
   "source": [
    "library(jsonlite)"
   ]
  },
  {
   "cell_type": "code",
   "execution_count": 20,
   "id": "79b88f6d-6271-4360-87f1-6a3c74c725e4",
   "metadata": {},
   "outputs": [],
   "source": [
    "df_import_json <- toJSON(df_import)"
   ]
  },
  {
   "cell_type": "code",
   "execution_count": 26,
   "id": "f50b510f-e026-4903-a7f2-fab5606edb04",
   "metadata": {},
   "outputs": [],
   "source": [
    "df_import <- data[c('inq_fac_name', 'inq_org_name')]\n",
    "df_import_json <- toJSON(df_import)\n",
    "\n",
    "formData_import <- list(token='1D4B2F0ED2500C255CDEDA2F159E7725',\n",
    "                 content='record',\n",
    "                 format='json',\n",
    "                data = df_import_json,\n",
    "                returnFormat = \"csv\")\n",
    "\n",
    "data <- httr::POST(url, body = formData_import)"
   ]
  },
  {
   "cell_type": "code",
   "execution_count": 28,
   "id": "76ca7cd5-1703-4a4c-b329-0e1db03b90a7",
   "metadata": {},
   "outputs": [
    {
     "data": {
      "text/plain": [
       "Response [https://qa-redcap.doh.wa.gov/api/]\n",
       "  Date: 2022-08-05 18:11\n",
       "  Status: 400\n",
       "  Content-Type: text/csv; charset=utf-8\n",
       "  Size: 50 B\n"
      ]
     },
     "metadata": {},
     "output_type": "display_data"
    }
   ],
   "source": [
    "data"
   ]
  },
  {
   "cell_type": "code",
   "execution_count": null,
   "id": "f433235a-a88d-4bf9-8aaa-4cd2c62668ea",
   "metadata": {},
   "outputs": [],
   "source": []
  }
 ],
 "metadata": {
  "kernelspec": {
   "display_name": "R [conda env:r_env]",
   "language": "R",
   "name": "conda-env-r_env-r"
  },
  "language_info": {
   "codemirror_mode": "r",
   "file_extension": ".r",
   "mimetype": "text/x-r-source",
   "name": "R",
   "pygments_lexer": "r",
   "version": "3.6.1"
  }
 },
 "nbformat": 4,
 "nbformat_minor": 5
}
