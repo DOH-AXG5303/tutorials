{
 "cells": [
  {
   "cell_type": "markdown",
   "id": "ac2768a0-dee7-48a2-b063-7cc775b2fa59",
   "metadata": {},
   "source": [
    "# Explore Dataframe object"
   ]
  },
  {
   "cell_type": "markdown",
   "id": "2c990cde-89e5-486f-87af-df450564d03c",
   "metadata": {},
   "source": [
    "### How to rename columns using a dictionary key:value pair?"
   ]
  },
  {
   "cell_type": "code",
   "execution_count": 60,
   "id": "7958bb36-68dd-4a4a-8c65-cd9f0dce190d",
   "metadata": {},
   "outputs": [
    {
     "data": {
      "text/html": [
       "<table class=\"dataframe\">\n",
       "<caption>A data.frame: 3 × 3</caption>\n",
       "<thead>\n",
       "\t<tr><th scope=col>A</th><th scope=col>B</th><th scope=col>C</th></tr>\n",
       "\t<tr><th scope=col>&lt;dbl&gt;</th><th scope=col>&lt;chr&gt;</th><th scope=col>&lt;lgl&gt;</th></tr>\n",
       "</thead>\n",
       "<tbody>\n",
       "\t<tr><td>1</td><td>one  </td><td> TRUE</td></tr>\n",
       "\t<tr><td>2</td><td>two  </td><td>FALSE</td></tr>\n",
       "\t<tr><td>3</td><td>three</td><td> TRUE</td></tr>\n",
       "</tbody>\n",
       "</table>\n"
      ],
      "text/latex": [
       "A data.frame: 3 × 3\n",
       "\\begin{tabular}{lll}\n",
       " A & B & C\\\\\n",
       " <dbl> & <chr> & <lgl>\\\\\n",
       "\\hline\n",
       "\t 1 & one   &  TRUE\\\\\n",
       "\t 2 & two   & FALSE\\\\\n",
       "\t 3 & three &  TRUE\\\\\n",
       "\\end{tabular}\n"
      ],
      "text/markdown": [
       "\n",
       "A data.frame: 3 × 3\n",
       "\n",
       "| A &lt;dbl&gt; | B &lt;chr&gt; | C &lt;lgl&gt; |\n",
       "|---|---|---|\n",
       "| 1 | one   |  TRUE |\n",
       "| 2 | two   | FALSE |\n",
       "| 3 | three |  TRUE |\n",
       "\n"
      ],
      "text/plain": [
       "  A B     C    \n",
       "1 1 one    TRUE\n",
       "2 2 two   FALSE\n",
       "3 3 three  TRUE"
      ]
     },
     "metadata": {},
     "output_type": "display_data"
    }
   ],
   "source": [
    "#Create example dataframe\n",
    "A <- c(1,2,3)\n",
    "B <- c(\"one\", \"two\", \"three\")\n",
    "C <- c(TRUE, FALSE, TRUE)\n",
    "\n",
    "example_df = data.frame(A,B,C)\n",
    "\n",
    "example_df"
   ]
  },
  {
   "cell_type": "code",
   "execution_count": 61,
   "id": "2e7252c8-f705-43a5-b78d-8c9ddf5fe10b",
   "metadata": {},
   "outputs": [
    {
     "data": {
      "text/html": [
       "<style>\n",
       ".list-inline {list-style: none; margin:0; padding: 0}\n",
       ".list-inline>li {display: inline-block}\n",
       ".list-inline>li:not(:last-child)::after {content: \"\\00b7\"; padding: 0 .5ex}\n",
       "</style>\n",
       "<ol class=list-inline><li>'A'</li><li>'B'</li><li>'C'</li></ol>\n"
      ],
      "text/latex": [
       "\\begin{enumerate*}\n",
       "\\item 'A'\n",
       "\\item 'B'\n",
       "\\item 'C'\n",
       "\\end{enumerate*}\n"
      ],
      "text/markdown": [
       "1. 'A'\n",
       "2. 'B'\n",
       "3. 'C'\n",
       "\n",
       "\n"
      ],
      "text/plain": [
       "[1] \"A\" \"B\" \"C\""
      ]
     },
     "metadata": {},
     "output_type": "display_data"
    }
   ],
   "source": [
    "#can access the column names using colnames function\n",
    "colnames(example_df)"
   ]
  },
  {
   "cell_type": "code",
   "execution_count": 62,
   "id": "c72d8dce-6bc0-4258-90d1-202c872c6f06",
   "metadata": {},
   "outputs": [],
   "source": [
    "#can create a vector with name:value pairs for translation\n",
    "col_list <- c(\"A\" = \"columns_a\", \"C\" = \"columns_c\")"
   ]
  },
  {
   "cell_type": "code",
   "execution_count": 74,
   "id": "86aa024f-200c-4aad-a4fd-d6781ee962a7",
   "metadata": {},
   "outputs": [
    {
     "name": "stdout",
     "output_type": "stream",
     "text": [
      "          A \n",
      "\"columns_a\" \n",
      "<NA> \n",
      "  NA \n",
      "          C \n",
      "\"columns_c\" \n",
      "<NA> \n",
      "  NA \n"
     ]
    }
   ],
   "source": [
    "#Can index col_list vector. Note: You can index nonexistant values and return an NA\n",
    "print(col_list[\"A\"])\n",
    "\n",
    "print(col_list[\"B\"])\n",
    "\n",
    "print(col_list[\"C\"])\n",
    "\n",
    "print(col_list[\"D\"])"
   ]
  },
  {
   "cell_type": "code",
   "execution_count": 75,
   "id": "6809bc2a-df86-4c8f-b91a-ddeb8bfd6cf0",
   "metadata": {},
   "outputs": [
    {
     "data": {
      "text/html": [
       "<style>\n",
       ".dl-inline {width: auto; margin:0; padding: 0}\n",
       ".dl-inline>dt, .dl-inline>dd {float: none; width: auto; display: inline-block}\n",
       ".dl-inline>dt::after {content: \":\\0020\"; padding-right: .5ex}\n",
       ".dl-inline>dt:not(:first-of-type) {padding-left: .5ex}\n",
       "</style><dl class=dl-inline><dt>A</dt><dd>'columns_a'</dd><dt>2</dt><dd>NA</dd><dt>C</dt><dd>'columns_c'</dd></dl>\n"
      ],
      "text/latex": [
       "\\begin{description*}\n",
       "\\item[A] 'columns\\_a'\n",
       "\\item[2] NA\n",
       "\\item[C] 'columns\\_c'\n",
       "\\end{description*}\n"
      ],
      "text/markdown": [
       "A\n",
       ":   'columns_a'2\n",
       ":   NAC\n",
       ":   'columns_c'\n",
       "\n"
      ],
      "text/plain": [
       "          A        <NA>           C \n",
       "\"columns_a\"          NA \"columns_c\" "
      ]
     },
     "metadata": {},
     "output_type": "display_data"
    }
   ],
   "source": [
    "#cam use the columns list vector to index dataframe and vice versa\n",
    "col_list[colnames(example_df)]"
   ]
  },
  {
   "cell_type": "markdown",
   "id": "a4d2b743-983d-404d-bcac-494ec3625e44",
   "metadata": {},
   "source": [
    "### Example #1: rename columns using vector with exact length and exact name matching\n",
    "\n",
    "If names are missing, or vector is of different name, the column names will turn to NAN"
   ]
  },
  {
   "cell_type": "code",
   "execution_count": 101,
   "id": "279be820-0340-4097-8a4e-aabcba6c3a10",
   "metadata": {},
   "outputs": [
    {
     "name": "stdout",
     "output_type": "stream",
     "text": [
      "  A     B     C\n",
      "1 1   one  TRUE\n",
      "2 2   two FALSE\n",
      "3 3 three  TRUE\n",
      "  columns_a    NA columns_c\n",
      "1         1   one      TRUE\n",
      "2         2   two     FALSE\n",
      "3         3 three      TRUE\n"
     ]
    }
   ],
   "source": [
    "#Create example dataframe\n",
    "A <- c(1,2,3)\n",
    "B <- c(\"one\", \"two\", \"three\")\n",
    "C <- c(TRUE, FALSE, TRUE)\n",
    "\n",
    "example_df = data.frame(A,B,C)\n",
    "\n",
    "print(example_df)\n",
    "\n",
    "#can create a vector with name:value pairs for translation\n",
    "col_list <- c(\"A\" = \"columns_a\", \"C\" = \"columns_c\")\n",
    "\n",
    "colnames(example_df) <- col_list[colnames(example_df)]\n",
    "\n",
    "print(example_df)"
   ]
  },
  {
   "cell_type": "markdown",
   "id": "ab94939b-14d5-48d1-875e-375c5ee002f5",
   "metadata": {},
   "source": [
    "### Example #2:\n",
    "\n",
    "If names are missing, or vector is of different name, the column names will turn to NAN"
   ]
  },
  {
   "cell_type": "code",
   "execution_count": 115,
   "id": "98dfa5b8-35f1-43ac-8181-523703b8c6e1",
   "metadata": {},
   "outputs": [
    {
     "name": "stdout",
     "output_type": "stream",
     "text": [
      "  A     B     C\n",
      "1 1   one  TRUE\n",
      "2 2   two FALSE\n",
      "3 3 three  TRUE\n"
     ]
    }
   ],
   "source": [
    "#Create example dataframe\n",
    "A <- c(1,2,3)\n",
    "B <- c(\"one\", \"two\", \"three\")\n",
    "C <- c(TRUE, FALSE, TRUE)\n",
    "\n",
    "example_df = data.frame(A,B,C)\n",
    "\n",
    "print(example_df)"
   ]
  },
  {
   "cell_type": "code",
   "execution_count": 105,
   "id": "1d430f18-2b0e-4c79-b432-790a2c5a7795",
   "metadata": {},
   "outputs": [],
   "source": [
    "#can create a vector with name:value pairs for translation\n",
    "col_list <- c(\"A\" = \"columns_a\", \"C\" = \"columns_c\")\n"
   ]
  },
  {
   "cell_type": "code",
   "execution_count": 114,
   "id": "5da365e0-16fd-4c82-a49f-e46a69b8fbc5",
   "metadata": {},
   "outputs": [],
   "source": [
    "library(data.table)"
   ]
  },
  {
   "cell_type": "code",
   "execution_count": 116,
   "id": "66a0d9fa-b4c1-49a8-96db-3dac40109f76",
   "metadata": {},
   "outputs": [],
   "source": [
    "setDT(example_df)"
   ]
  },
  {
   "cell_type": "code",
   "execution_count": 122,
   "id": "e88ccd67-7c00-4dc0-b567-6aff321d8a1c",
   "metadata": {},
   "outputs": [
    {
     "ename": "ERROR",
     "evalue": "Error in setNames(example_df, col_list, skip_absent = TRUE): unused argument (skip_absent = TRUE)\n",
     "output_type": "error",
     "traceback": [
      "Error in setNames(example_df, col_list, skip_absent = TRUE): unused argument (skip_absent = TRUE)\nTraceback:\n"
     ]
    }
   ],
   "source": [
    "setNames(example_df, col_list, skip_absent = TRUE)"
   ]
  },
  {
   "cell_type": "code",
   "execution_count": null,
   "id": "08ea8efd-883c-485b-8732-166a0587ecee",
   "metadata": {},
   "outputs": [],
   "source": []
  },
  {
   "cell_type": "code",
   "execution_count": null,
   "id": "2aac1221-821c-408e-9c66-e7309ef427eb",
   "metadata": {},
   "outputs": [],
   "source": []
  },
  {
   "cell_type": "code",
   "execution_count": 107,
   "id": "49c2b76c-5b06-4ce6-ac67-606c46b4d0dc",
   "metadata": {},
   "outputs": [
    {
     "ename": "ERROR",
     "evalue": "Error in setNames(example_df, col_list, askip_absent = TRUE): unused argument (askip_absent = TRUE)\n",
     "output_type": "error",
     "traceback": [
      "Error in setNames(example_df, col_list, askip_absent = TRUE): unused argument (askip_absent = TRUE)\nTraceback:\n"
     ]
    }
   ],
   "source": [
    "setNames(example_df, col_list, askip_absent = TRUE)"
   ]
  },
  {
   "cell_type": "code",
   "execution_count": null,
   "id": "6802ca3b-b652-470b-9d03-b75e491673b3",
   "metadata": {},
   "outputs": [],
   "source": []
  },
  {
   "cell_type": "code",
   "execution_count": null,
   "id": "c419eed0-e3e6-4792-b8af-986dfa5f1e9f",
   "metadata": {},
   "outputs": [],
   "source": []
  },
  {
   "cell_type": "code",
   "execution_count": null,
   "id": "05e5ca8f-979e-4954-83fe-574566b39204",
   "metadata": {},
   "outputs": [],
   "source": []
  },
  {
   "cell_type": "code",
   "execution_count": 92,
   "id": "7e92f155-c689-4dc8-a80d-263d83c0c206",
   "metadata": {},
   "outputs": [
    {
     "data": {
      "text/html": [
       "<table class=\"dataframe\">\n",
       "<caption>A data.frame: 3 × 2</caption>\n",
       "<thead>\n",
       "\t<tr><th scope=col>A</th><th scope=col>C</th></tr>\n",
       "\t<tr><th scope=col>&lt;dbl&gt;</th><th scope=col>&lt;lgl&gt;</th></tr>\n",
       "</thead>\n",
       "<tbody>\n",
       "\t<tr><td>1</td><td> TRUE</td></tr>\n",
       "\t<tr><td>2</td><td>FALSE</td></tr>\n",
       "\t<tr><td>3</td><td> TRUE</td></tr>\n",
       "</tbody>\n",
       "</table>\n"
      ],
      "text/latex": [
       "A data.frame: 3 × 2\n",
       "\\begin{tabular}{ll}\n",
       " A & C\\\\\n",
       " <dbl> & <lgl>\\\\\n",
       "\\hline\n",
       "\t 1 &  TRUE\\\\\n",
       "\t 2 & FALSE\\\\\n",
       "\t 3 &  TRUE\\\\\n",
       "\\end{tabular}\n"
      ],
      "text/markdown": [
       "\n",
       "A data.frame: 3 × 2\n",
       "\n",
       "| A &lt;dbl&gt; | C &lt;lgl&gt; |\n",
       "|---|---|\n",
       "| 1 |  TRUE |\n",
       "| 2 | FALSE |\n",
       "| 3 |  TRUE |\n",
       "\n"
      ],
      "text/plain": [
       "  A C    \n",
       "1 1  TRUE\n",
       "2 2 FALSE\n",
       "3 3  TRUE"
      ]
     },
     "metadata": {},
     "output_type": "display_data"
    }
   ],
   "source": [
    "# slice columns\n",
    "example_df[,c(\"A\", \"C\")]"
   ]
  },
  {
   "cell_type": "code",
   "execution_count": 98,
   "id": "907ee8a3-43a7-47d4-8fdc-84568ef118b5",
   "metadata": {},
   "outputs": [
    {
     "data": {
      "text/html": [
       "<table class=\"dataframe\">\n",
       "<caption>A data.frame: 3 × 2</caption>\n",
       "<thead>\n",
       "\t<tr><th scope=col>A</th><th scope=col>C</th></tr>\n",
       "\t<tr><th scope=col>&lt;dbl&gt;</th><th scope=col>&lt;lgl&gt;</th></tr>\n",
       "</thead>\n",
       "<tbody>\n",
       "\t<tr><td>1</td><td> TRUE</td></tr>\n",
       "\t<tr><td>2</td><td>FALSE</td></tr>\n",
       "\t<tr><td>3</td><td> TRUE</td></tr>\n",
       "</tbody>\n",
       "</table>\n"
      ],
      "text/latex": [
       "A data.frame: 3 × 2\n",
       "\\begin{tabular}{ll}\n",
       " A & C\\\\\n",
       " <dbl> & <lgl>\\\\\n",
       "\\hline\n",
       "\t 1 &  TRUE\\\\\n",
       "\t 2 & FALSE\\\\\n",
       "\t 3 &  TRUE\\\\\n",
       "\\end{tabular}\n"
      ],
      "text/markdown": [
       "\n",
       "A data.frame: 3 × 2\n",
       "\n",
       "| A &lt;dbl&gt; | C &lt;lgl&gt; |\n",
       "|---|---|\n",
       "| 1 |  TRUE |\n",
       "| 2 | FALSE |\n",
       "| 3 |  TRUE |\n",
       "\n"
      ],
      "text/plain": [
       "  A C    \n",
       "1 1  TRUE\n",
       "2 2 FALSE\n",
       "3 3  TRUE"
      ]
     },
     "metadata": {},
     "output_type": "display_data"
    }
   ],
   "source": [
    "# slice columns using the names of a vector\n",
    "example_df[, names(col_list)]"
   ]
  },
  {
   "cell_type": "code",
   "execution_count": null,
   "id": "3063b699-c56a-4a83-8351-fd8ba4e79fd5",
   "metadata": {},
   "outputs": [],
   "source": []
  },
  {
   "cell_type": "code",
   "execution_count": null,
   "id": "26ced99d-2f88-4e93-885b-72e9f4938fda",
   "metadata": {},
   "outputs": [],
   "source": []
  },
  {
   "cell_type": "code",
   "execution_count": null,
   "id": "5f6958f2-34ff-45ea-9fc0-4cdcb9aaa4b3",
   "metadata": {},
   "outputs": [],
   "source": []
  },
  {
   "cell_type": "code",
   "execution_count": null,
   "id": "538bbb0c-183b-46c3-884e-60d1801e6768",
   "metadata": {},
   "outputs": [],
   "source": []
  },
  {
   "cell_type": "code",
   "execution_count": null,
   "id": "b7f402f7-43ef-4895-893b-150588828f37",
   "metadata": {},
   "outputs": [],
   "source": []
  },
  {
   "cell_type": "code",
   "execution_count": 45,
   "id": "02f7d49f-8cde-42a2-a005-ade87da0c4e2",
   "metadata": {},
   "outputs": [],
   "source": [
    "#col_list <- c(\"A\" = \"columns_a\", \"B\" = \"columns_b\", \"C\" = \"columns_c\")\n",
    "col_list <- c(\"A\" = \"columns_a\", \"C\" = \"columns_c\")\n",
    "colnames(example_df) <- col_list[colnames(example_df)]"
   ]
  },
  {
   "cell_type": "code",
   "execution_count": 50,
   "id": "a198c36e-0779-4e42-a4ab-038c0a017b02",
   "metadata": {},
   "outputs": [
    {
     "data": {
      "text/html": [
       "<style>\n",
       ".dl-inline {width: auto; margin:0; padding: 0}\n",
       ".dl-inline>dt, .dl-inline>dd {float: none; width: auto; display: inline-block}\n",
       ".dl-inline>dt::after {content: \":\\0020\"; padding-right: .5ex}\n",
       ".dl-inline>dt:not(:first-of-type) {padding-left: .5ex}\n",
       "</style><dl class=dl-inline><dt>A</dt><dd>'columns_a'</dd><dt>2</dt><dd>NA</dd><dt>C</dt><dd>'columns_c'</dd></dl>\n"
      ],
      "text/latex": [
       "\\begin{description*}\n",
       "\\item[A] 'columns\\_a'\n",
       "\\item[2] NA\n",
       "\\item[C] 'columns\\_c'\n",
       "\\end{description*}\n"
      ],
      "text/markdown": [
       "A\n",
       ":   'columns_a'2\n",
       ":   NAC\n",
       ":   'columns_c'\n",
       "\n"
      ],
      "text/plain": [
       "          A        <NA>           C \n",
       "\"columns_a\"          NA \"columns_c\" "
      ]
     },
     "metadata": {},
     "output_type": "display_data"
    }
   ],
   "source": [
    "col_list[colnames(example_df)]"
   ]
  },
  {
   "cell_type": "code",
   "execution_count": 35,
   "id": "40bc815f-a4f5-481e-95e1-eb61017f6a07",
   "metadata": {},
   "outputs": [
    {
     "data": {
      "text/html": [
       "<style>\n",
       ".list-inline {list-style: none; margin:0; padding: 0}\n",
       ".list-inline>li {display: inline-block}\n",
       ".list-inline>li:not(:last-child)::after {content: \"\\00b7\"; padding: 0 .5ex}\n",
       "</style>\n",
       "<ol class=list-inline><li>'A'</li><li>'C'</li></ol>\n"
      ],
      "text/latex": [
       "\\begin{enumerate*}\n",
       "\\item 'A'\n",
       "\\item 'C'\n",
       "\\end{enumerate*}\n"
      ],
      "text/markdown": [
       "1. 'A'\n",
       "2. 'C'\n",
       "\n",
       "\n"
      ],
      "text/plain": [
       "[1] \"A\" \"C\""
      ]
     },
     "metadata": {},
     "output_type": "display_data"
    }
   ],
   "source": [
    "names(col_list)"
   ]
  },
  {
   "cell_type": "code",
   "execution_count": 41,
   "id": "e5d5cd2a-c71c-4b03-ab16-90128bacde88",
   "metadata": {},
   "outputs": [],
   "source": [
    "colnames(example_df) <- col_list[colnames(example_df[names(col_list)])]"
   ]
  },
  {
   "cell_type": "code",
   "execution_count": 42,
   "id": "69135be9-3d8a-4124-827e-092d10a73d11",
   "metadata": {},
   "outputs": [
    {
     "data": {
      "text/html": [
       "<table class=\"dataframe\">\n",
       "<caption>A data.frame: 3 × 3</caption>\n",
       "<thead>\n",
       "\t<tr><th scope=col>columns_a</th><th scope=col>columns_c</th><th scope=col>NA</th></tr>\n",
       "\t<tr><th scope=col>&lt;dbl&gt;</th><th scope=col>&lt;chr&gt;</th><th scope=col>&lt;lgl&gt;</th></tr>\n",
       "</thead>\n",
       "<tbody>\n",
       "\t<tr><td>1</td><td>one  </td><td> TRUE</td></tr>\n",
       "\t<tr><td>2</td><td>two  </td><td>FALSE</td></tr>\n",
       "\t<tr><td>3</td><td>three</td><td> TRUE</td></tr>\n",
       "</tbody>\n",
       "</table>\n"
      ],
      "text/latex": [
       "A data.frame: 3 × 3\n",
       "\\begin{tabular}{lll}\n",
       " columns\\_a & columns\\_c & NA\\\\\n",
       " <dbl> & <chr> & <lgl>\\\\\n",
       "\\hline\n",
       "\t 1 & one   &  TRUE\\\\\n",
       "\t 2 & two   & FALSE\\\\\n",
       "\t 3 & three &  TRUE\\\\\n",
       "\\end{tabular}\n"
      ],
      "text/markdown": [
       "\n",
       "A data.frame: 3 × 3\n",
       "\n",
       "| columns_a &lt;dbl&gt; | columns_c &lt;chr&gt; | NA &lt;lgl&gt; |\n",
       "|---|---|---|\n",
       "| 1 | one   |  TRUE |\n",
       "| 2 | two   | FALSE |\n",
       "| 3 | three |  TRUE |\n",
       "\n"
      ],
      "text/plain": [
       "  columns_a columns_c <NA> \n",
       "1 1         one        TRUE\n",
       "2 2         two       FALSE\n",
       "3 3         three      TRUE"
      ]
     },
     "metadata": {},
     "output_type": "display_data"
    }
   ],
   "source": [
    "example_df"
   ]
  },
  {
   "cell_type": "markdown",
   "id": "acfc68cf-386e-40b6-88ad-3847537207fa",
   "metadata": {},
   "source": [
    "# Explore mtcars dataset"
   ]
  },
  {
   "cell_type": "code",
   "execution_count": 57,
   "id": "4f3ac375-9d26-4bc9-84a3-745a66ae6696",
   "metadata": {},
   "outputs": [],
   "source": [
    "data(mtcars)"
   ]
  },
  {
   "cell_type": "code",
   "execution_count": 58,
   "id": "455d192b-65e6-40f9-ba83-5176b493710c",
   "metadata": {},
   "outputs": [
    {
     "data": {
      "text/html": [
       "'character'"
      ],
      "text/latex": [
       "'character'"
      ],
      "text/markdown": [
       "'character'"
      ],
      "text/plain": [
       "[1] \"character\""
      ]
     },
     "metadata": {},
     "output_type": "display_data"
    }
   ],
   "source": [
    "typeof(colnames(mtcars))"
   ]
  },
  {
   "cell_type": "code",
   "execution_count": 59,
   "id": "2662d35b-a129-42cc-9207-ff9a6adb8b1e",
   "metadata": {},
   "outputs": [
    {
     "data": {
      "text/html": [
       "'hp'"
      ],
      "text/latex": [
       "'hp'"
      ],
      "text/markdown": [
       "'hp'"
      ],
      "text/plain": [
       "[1] \"hp\""
      ]
     },
     "metadata": {},
     "output_type": "display_data"
    }
   ],
   "source": [
    "colnames(mtcars)[4]"
   ]
  },
  {
   "cell_type": "code",
   "execution_count": null,
   "id": "69129ab4-4abe-4b47-9528-2a1e7782f1b7",
   "metadata": {},
   "outputs": [],
   "source": []
  }
 ],
 "metadata": {
  "kernelspec": {
   "display_name": "R [conda env:Rtransform23]",
   "language": "R",
   "name": "conda-env-Rtransform23-r"
  },
  "language_info": {
   "codemirror_mode": "r",
   "file_extension": ".r",
   "mimetype": "text/x-r-source",
   "name": "R",
   "pygments_lexer": "r",
   "version": "4.1.3"
  }
 },
 "nbformat": 4,
 "nbformat_minor": 5
}
