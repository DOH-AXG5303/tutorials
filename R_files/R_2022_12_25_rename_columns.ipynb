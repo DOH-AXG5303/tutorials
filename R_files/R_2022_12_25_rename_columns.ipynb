{
 "cells": [
  {
   "cell_type": "code",
   "execution_count": 1,
   "id": "058ddb8d",
   "metadata": {},
   "outputs": [],
   "source": [
    "df <- read.csv(\"response_df.csv\")"
   ]
  },
  {
   "cell_type": "code",
   "execution_count": 3,
   "id": "f387c96d",
   "metadata": {},
   "outputs": [
    {
     "data": {
      "text/html": [
       "<style>\n",
       ".list-inline {list-style: none; margin:0; padding: 0}\n",
       ".list-inline>li {display: inline-block}\n",
       ".list-inline>li:not(:last-child)::after {content: \"\\00b7\"; padding: 0 .5ex}\n",
       "</style>\n",
       "<ol class=list-inline><li>'id'</li><li>'NAICSCode'</li><li>'NAICSTitle'</li><li>'NAICSProbability'</li><li>'CensusIndustryCode'</li><li>'CensusIndustryTitle'</li><li>'SOCCode'</li><li>'SOCTitle'</li><li>'SOCProbability'</li><li>'CensusOccupationCode'</li><li>'CensusOccupationTitle'</li></ol>\n"
      ],
      "text/latex": [
       "\\begin{enumerate*}\n",
       "\\item 'id'\n",
       "\\item 'NAICSCode'\n",
       "\\item 'NAICSTitle'\n",
       "\\item 'NAICSProbability'\n",
       "\\item 'CensusIndustryCode'\n",
       "\\item 'CensusIndustryTitle'\n",
       "\\item 'SOCCode'\n",
       "\\item 'SOCTitle'\n",
       "\\item 'SOCProbability'\n",
       "\\item 'CensusOccupationCode'\n",
       "\\item 'CensusOccupationTitle'\n",
       "\\end{enumerate*}\n"
      ],
      "text/markdown": [
       "1. 'id'\n",
       "2. 'NAICSCode'\n",
       "3. 'NAICSTitle'\n",
       "4. 'NAICSProbability'\n",
       "5. 'CensusIndustryCode'\n",
       "6. 'CensusIndustryTitle'\n",
       "7. 'SOCCode'\n",
       "8. 'SOCTitle'\n",
       "9. 'SOCProbability'\n",
       "10. 'CensusOccupationCode'\n",
       "11. 'CensusOccupationTitle'\n",
       "\n",
       "\n"
      ],
      "text/plain": [
       " [1] \"id\"                    \"NAICSCode\"             \"NAICSTitle\"           \n",
       " [4] \"NAICSProbability\"      \"CensusIndustryCode\"    \"CensusIndustryTitle\"  \n",
       " [7] \"SOCCode\"               \"SOCTitle\"              \"SOCProbability\"       \n",
       "[10] \"CensusOccupationCode\"  \"CensusOccupationTitle\""
      ]
     },
     "metadata": {},
     "output_type": "display_data"
    }
   ],
   "source": [
    "names(df)"
   ]
  },
  {
   "cell_type": "code",
   "execution_count": 6,
   "id": "e3289b46",
   "metadata": {},
   "outputs": [],
   "source": [
    "idkey <- data.frame(\n",
    "  \"original\"=c(\"id\", \"NAICSCode\", 'NAICSTitle', 'NAICSProbability', 'SOCCode', 'SOCTitle','SOCProbability', 'CensusIndustryCode','CensusOccupationCode','CensusIndustryTitle', 'CensusOccupationTitle'),\n",
    "  \"new\"=c(\"case_id\", \"naics_code\", 'naics_title', 'naic_prob', 'soc_code', 'soc_title', 'soc_prob', 'cen_ind_code', 'cen_occ_code', 'cen_ind_title','cen_occ_title'))\n"
   ]
  },
  {
   "cell_type": "code",
   "execution_count": 12,
   "id": "b71bd22a",
   "metadata": {},
   "outputs": [],
   "source": [
    "col_list <- list(\"id\" = \"case_id\",\n",
    "             'NAICSCode' = \"naics_code\",\n",
    "             'NAICSTitle' = 'naics_title',\n",
    "             'NAICSProbability' = 'naic_prob',\n",
    "             'SOCCode' = 'soc_code',\n",
    "             'SOCTitle' = 'soc_title',\n",
    "             'SOCProbability' = 'soc_prob',\n",
    "             'CensusIndustryCode' = 'cen_ind_code',\n",
    "             'CensusOccupationCode' ='cen_occ_code',\n",
    "             'CensusIndustryTitle' = 'cen_ind_title' ,\n",
    "             'CensusOccupationTitle' = 'cen_occ_title'\n",
    "            )\n",
    "\n",
    "colnames(df) <- dplyr::recode(colnames(df), !!!col_list)"
   ]
  },
  {
   "cell_type": "code",
   "execution_count": 10,
   "id": "98a02731",
   "metadata": {},
   "outputs": [
    {
     "data": {
      "text/html": [
       "<style>\n",
       ".list-inline {list-style: none; margin:0; padding: 0}\n",
       ".list-inline>li {display: inline-block}\n",
       ".list-inline>li:not(:last-child)::after {content: \"\\00b7\"; padding: 0 .5ex}\n",
       "</style>\n",
       "<ol class=list-inline><li>'id'</li><li>'NAICSCode'</li><li>'NAICSTitle'</li><li>'NAICSProbability'</li><li>'SOCCode'</li><li>'SOCTitle'</li><li>'SOCProbability'</li><li>'CensusIndustryCode'</li><li>'CensusOccupationCode'</li><li>'CensusIndustryTitle'</li><li>'CensusOccupationTitle'</li></ol>\n"
      ],
      "text/latex": [
       "\\begin{enumerate*}\n",
       "\\item 'id'\n",
       "\\item 'NAICSCode'\n",
       "\\item 'NAICSTitle'\n",
       "\\item 'NAICSProbability'\n",
       "\\item 'SOCCode'\n",
       "\\item 'SOCTitle'\n",
       "\\item 'SOCProbability'\n",
       "\\item 'CensusIndustryCode'\n",
       "\\item 'CensusOccupationCode'\n",
       "\\item 'CensusIndustryTitle'\n",
       "\\item 'CensusOccupationTitle'\n",
       "\\end{enumerate*}\n"
      ],
      "text/markdown": [
       "1. 'id'\n",
       "2. 'NAICSCode'\n",
       "3. 'NAICSTitle'\n",
       "4. 'NAICSProbability'\n",
       "5. 'SOCCode'\n",
       "6. 'SOCTitle'\n",
       "7. 'SOCProbability'\n",
       "8. 'CensusIndustryCode'\n",
       "9. 'CensusOccupationCode'\n",
       "10. 'CensusIndustryTitle'\n",
       "11. 'CensusOccupationTitle'\n",
       "\n",
       "\n"
      ],
      "text/plain": [
       " [1] \"id\"                    \"NAICSCode\"             \"NAICSTitle\"           \n",
       " [4] \"NAICSProbability\"      \"SOCCode\"               \"SOCTitle\"             \n",
       " [7] \"SOCProbability\"        \"CensusIndustryCode\"    \"CensusOccupationCode\" \n",
       "[10] \"CensusIndustryTitle\"   \"CensusOccupationTitle\""
      ]
     },
     "metadata": {},
     "output_type": "display_data"
    }
   ],
   "source": [
    "idkey$original"
   ]
  },
  {
   "cell_type": "code",
   "execution_count": 13,
   "id": "921174ed",
   "metadata": {},
   "outputs": [
    {
     "data": {
      "text/html": [
       "<dl>\n",
       "\t<dt>$id</dt>\n",
       "\t\t<dd>'case_id'</dd>\n",
       "\t<dt>$NAICSCode</dt>\n",
       "\t\t<dd>'naics_code'</dd>\n",
       "\t<dt>$NAICSTitle</dt>\n",
       "\t\t<dd>'naics_title'</dd>\n",
       "\t<dt>$NAICSProbability</dt>\n",
       "\t\t<dd>'naic_prob'</dd>\n",
       "\t<dt>$SOCCode</dt>\n",
       "\t\t<dd>'soc_code'</dd>\n",
       "\t<dt>$SOCTitle</dt>\n",
       "\t\t<dd>'soc_title'</dd>\n",
       "\t<dt>$SOCProbability</dt>\n",
       "\t\t<dd>'soc_prob'</dd>\n",
       "\t<dt>$CensusIndustryCode</dt>\n",
       "\t\t<dd>'cen_ind_code'</dd>\n",
       "\t<dt>$CensusOccupationCode</dt>\n",
       "\t\t<dd>'cen_occ_code'</dd>\n",
       "\t<dt>$CensusIndustryTitle</dt>\n",
       "\t\t<dd>'cen_ind_title'</dd>\n",
       "\t<dt>$CensusOccupationTitle</dt>\n",
       "\t\t<dd>'cen_occ_title'</dd>\n",
       "</dl>\n"
      ],
      "text/latex": [
       "\\begin{description}\n",
       "\\item[\\$id] 'case\\_id'\n",
       "\\item[\\$NAICSCode] 'naics\\_code'\n",
       "\\item[\\$NAICSTitle] 'naics\\_title'\n",
       "\\item[\\$NAICSProbability] 'naic\\_prob'\n",
       "\\item[\\$SOCCode] 'soc\\_code'\n",
       "\\item[\\$SOCTitle] 'soc\\_title'\n",
       "\\item[\\$SOCProbability] 'soc\\_prob'\n",
       "\\item[\\$CensusIndustryCode] 'cen\\_ind\\_code'\n",
       "\\item[\\$CensusOccupationCode] 'cen\\_occ\\_code'\n",
       "\\item[\\$CensusIndustryTitle] 'cen\\_ind\\_title'\n",
       "\\item[\\$CensusOccupationTitle] 'cen\\_occ\\_title'\n",
       "\\end{description}\n"
      ],
      "text/markdown": [
       "$id\n",
       ":   'case_id'\n",
       "$NAICSCode\n",
       ":   'naics_code'\n",
       "$NAICSTitle\n",
       ":   'naics_title'\n",
       "$NAICSProbability\n",
       ":   'naic_prob'\n",
       "$SOCCode\n",
       ":   'soc_code'\n",
       "$SOCTitle\n",
       ":   'soc_title'\n",
       "$SOCProbability\n",
       ":   'soc_prob'\n",
       "$CensusIndustryCode\n",
       ":   'cen_ind_code'\n",
       "$CensusOccupationCode\n",
       ":   'cen_occ_code'\n",
       "$CensusIndustryTitle\n",
       ":   'cen_ind_title'\n",
       "$CensusOccupationTitle\n",
       ":   'cen_occ_title'\n",
       "\n",
       "\n"
      ],
      "text/plain": [
       "$id\n",
       "[1] \"case_id\"\n",
       "\n",
       "$NAICSCode\n",
       "[1] \"naics_code\"\n",
       "\n",
       "$NAICSTitle\n",
       "[1] \"naics_title\"\n",
       "\n",
       "$NAICSProbability\n",
       "[1] \"naic_prob\"\n",
       "\n",
       "$SOCCode\n",
       "[1] \"soc_code\"\n",
       "\n",
       "$SOCTitle\n",
       "[1] \"soc_title\"\n",
       "\n",
       "$SOCProbability\n",
       "[1] \"soc_prob\"\n",
       "\n",
       "$CensusIndustryCode\n",
       "[1] \"cen_ind_code\"\n",
       "\n",
       "$CensusOccupationCode\n",
       "[1] \"cen_occ_code\"\n",
       "\n",
       "$CensusIndustryTitle\n",
       "[1] \"cen_ind_title\"\n",
       "\n",
       "$CensusOccupationTitle\n",
       "[1] \"cen_occ_title\"\n"
      ]
     },
     "metadata": {},
     "output_type": "display_data"
    }
   ],
   "source": [
    "l1"
   ]
  },
  {
   "cell_type": "code",
   "execution_count": 19,
   "id": "c1a9b164",
   "metadata": {},
   "outputs": [],
   "source": [
    "a <- setNames(idkey$new, idkey$original)"
   ]
  },
  {
   "cell_type": "code",
   "execution_count": 20,
   "id": "4c0791d7",
   "metadata": {},
   "outputs": [
    {
     "data": {
      "text/html": [
       "<style>\n",
       ".dl-inline {width: auto; margin:0; padding: 0}\n",
       ".dl-inline>dt, .dl-inline>dd {float: none; width: auto; display: inline-block}\n",
       ".dl-inline>dt::after {content: \":\\0020\"; padding-right: .5ex}\n",
       ".dl-inline>dt:not(:first-of-type) {padding-left: .5ex}\n",
       "</style><dl class=dl-inline><dt>id</dt><dd>'case_id'</dd><dt>NAICSCode</dt><dd>'naics_code'</dd><dt>NAICSTitle</dt><dd>'naics_title'</dd><dt>NAICSProbability</dt><dd>'naic_prob'</dd><dt>SOCCode</dt><dd>'soc_code'</dd><dt>SOCTitle</dt><dd>'soc_title'</dd><dt>SOCProbability</dt><dd>'soc_prob'</dd><dt>CensusIndustryCode</dt><dd>'cen_ind_code'</dd><dt>CensusOccupationCode</dt><dd>'cen_occ_code'</dd><dt>CensusIndustryTitle</dt><dd>'cen_ind_title'</dd><dt>CensusOccupationTitle</dt><dd>'cen_occ_title'</dd></dl>\n"
      ],
      "text/latex": [
       "\\begin{description*}\n",
       "\\item[id] 'case\\_id'\n",
       "\\item[NAICSCode] 'naics\\_code'\n",
       "\\item[NAICSTitle] 'naics\\_title'\n",
       "\\item[NAICSProbability] 'naic\\_prob'\n",
       "\\item[SOCCode] 'soc\\_code'\n",
       "\\item[SOCTitle] 'soc\\_title'\n",
       "\\item[SOCProbability] 'soc\\_prob'\n",
       "\\item[CensusIndustryCode] 'cen\\_ind\\_code'\n",
       "\\item[CensusOccupationCode] 'cen\\_occ\\_code'\n",
       "\\item[CensusIndustryTitle] 'cen\\_ind\\_title'\n",
       "\\item[CensusOccupationTitle] 'cen\\_occ\\_title'\n",
       "\\end{description*}\n"
      ],
      "text/markdown": [
       "id\n",
       ":   'case_id'NAICSCode\n",
       ":   'naics_code'NAICSTitle\n",
       ":   'naics_title'NAICSProbability\n",
       ":   'naic_prob'SOCCode\n",
       ":   'soc_code'SOCTitle\n",
       ":   'soc_title'SOCProbability\n",
       ":   'soc_prob'CensusIndustryCode\n",
       ":   'cen_ind_code'CensusOccupationCode\n",
       ":   'cen_occ_code'CensusIndustryTitle\n",
       ":   'cen_ind_title'CensusOccupationTitle\n",
       ":   'cen_occ_title'\n",
       "\n"
      ],
      "text/plain": [
       "                   id             NAICSCode            NAICSTitle \n",
       "            \"case_id\"          \"naics_code\"         \"naics_title\" \n",
       "     NAICSProbability               SOCCode              SOCTitle \n",
       "          \"naic_prob\"            \"soc_code\"           \"soc_title\" \n",
       "       SOCProbability    CensusIndustryCode  CensusOccupationCode \n",
       "           \"soc_prob\"        \"cen_ind_code\"        \"cen_occ_code\" \n",
       "  CensusIndustryTitle CensusOccupationTitle \n",
       "      \"cen_ind_title\"       \"cen_occ_title\" "
      ]
     },
     "metadata": {},
     "output_type": "display_data"
    }
   ],
   "source": [
    "a"
   ]
  },
  {
   "cell_type": "code",
   "execution_count": 21,
   "id": "196aef88",
   "metadata": {},
   "outputs": [],
   "source": [
    "colnames(df) <- dplyr::recode(colnames(df), !!!l1)"
   ]
  },
  {
   "cell_type": "code",
   "execution_count": 22,
   "id": "6e49472e",
   "metadata": {},
   "outputs": [
    {
     "data": {
      "text/html": [
       "<table class=\"dataframe\">\n",
       "<caption>A data.frame: 3 × 11</caption>\n",
       "<thead>\n",
       "\t<tr><th scope=col>case_id</th><th scope=col>naics_code</th><th scope=col>naics_title</th><th scope=col>naic_prob</th><th scope=col>cen_ind_code</th><th scope=col>cen_ind_title</th><th scope=col>soc_code</th><th scope=col>soc_title</th><th scope=col>soc_prob</th><th scope=col>cen_occ_code</th><th scope=col>cen_occ_title</th></tr>\n",
       "\t<tr><th scope=col>&lt;int&gt;</th><th scope=col>&lt;int&gt;</th><th scope=col>&lt;chr&gt;</th><th scope=col>&lt;dbl&gt;</th><th scope=col>&lt;int&gt;</th><th scope=col>&lt;chr&gt;</th><th scope=col>&lt;chr&gt;</th><th scope=col>&lt;chr&gt;</th><th scope=col>&lt;dbl&gt;</th><th scope=col>&lt;int&gt;</th><th scope=col>&lt;chr&gt;</th></tr>\n",
       "</thead>\n",
       "<tbody>\n",
       "\t<tr><td>2</td><td> 711</td><td>Performing Arts, Spectator Sports, and Related Industries</td><td>0.9999990</td><td>8560</td><td>Performing Arts, Spectator Sports, and Related Industries</td><td>27-2031</td><td>Dancers                                                </td><td>0.9995087</td><td>2740</td><td>Dancers and Choreographers                             </td></tr>\n",
       "\t<tr><td>3</td><td>6213</td><td>Offices of Other Health Practitioners                    </td><td>0.9719890</td><td>8080</td><td>Offices of Other Health Practitioners                    </td><td>29-1199</td><td>Health Diagnosing and Treating Practitioners, All Other</td><td>0.9988512</td><td>3260</td><td>Health Diagnosing and Treating Practitioners, All Other</td></tr>\n",
       "\t<tr><td>4</td><td> 622</td><td>Hospitals                                                </td><td>0.9999975</td><td>8190</td><td>Hospitals                                                </td><td>29-1141</td><td>Registered Nurses                                      </td><td>1.0000000</td><td>3255</td><td>Registered Nurses                                      </td></tr>\n",
       "</tbody>\n",
       "</table>\n"
      ],
      "text/latex": [
       "A data.frame: 3 × 11\n",
       "\\begin{tabular}{lllllllllll}\n",
       " case\\_id & naics\\_code & naics\\_title & naic\\_prob & cen\\_ind\\_code & cen\\_ind\\_title & soc\\_code & soc\\_title & soc\\_prob & cen\\_occ\\_code & cen\\_occ\\_title\\\\\n",
       " <int> & <int> & <chr> & <dbl> & <int> & <chr> & <chr> & <chr> & <dbl> & <int> & <chr>\\\\\n",
       "\\hline\n",
       "\t 2 &  711 & Performing Arts, Spectator Sports, and Related Industries & 0.9999990 & 8560 & Performing Arts, Spectator Sports, and Related Industries & 27-2031 & Dancers                                                 & 0.9995087 & 2740 & Dancers and Choreographers                             \\\\\n",
       "\t 3 & 6213 & Offices of Other Health Practitioners                     & 0.9719890 & 8080 & Offices of Other Health Practitioners                     & 29-1199 & Health Diagnosing and Treating Practitioners, All Other & 0.9988512 & 3260 & Health Diagnosing and Treating Practitioners, All Other\\\\\n",
       "\t 4 &  622 & Hospitals                                                 & 0.9999975 & 8190 & Hospitals                                                 & 29-1141 & Registered Nurses                                       & 1.0000000 & 3255 & Registered Nurses                                      \\\\\n",
       "\\end{tabular}\n"
      ],
      "text/markdown": [
       "\n",
       "A data.frame: 3 × 11\n",
       "\n",
       "| case_id &lt;int&gt; | naics_code &lt;int&gt; | naics_title &lt;chr&gt; | naic_prob &lt;dbl&gt; | cen_ind_code &lt;int&gt; | cen_ind_title &lt;chr&gt; | soc_code &lt;chr&gt; | soc_title &lt;chr&gt; | soc_prob &lt;dbl&gt; | cen_occ_code &lt;int&gt; | cen_occ_title &lt;chr&gt; |\n",
       "|---|---|---|---|---|---|---|---|---|---|---|\n",
       "| 2 |  711 | Performing Arts, Spectator Sports, and Related Industries | 0.9999990 | 8560 | Performing Arts, Spectator Sports, and Related Industries | 27-2031 | Dancers                                                 | 0.9995087 | 2740 | Dancers and Choreographers                              |\n",
       "| 3 | 6213 | Offices of Other Health Practitioners                     | 0.9719890 | 8080 | Offices of Other Health Practitioners                     | 29-1199 | Health Diagnosing and Treating Practitioners, All Other | 0.9988512 | 3260 | Health Diagnosing and Treating Practitioners, All Other |\n",
       "| 4 |  622 | Hospitals                                                 | 0.9999975 | 8190 | Hospitals                                                 | 29-1141 | Registered Nurses                                       | 1.0000000 | 3255 | Registered Nurses                                       |\n",
       "\n"
      ],
      "text/plain": [
       "  case_id naics_code naics_title                                              \n",
       "1 2        711       Performing Arts, Spectator Sports, and Related Industries\n",
       "2 3       6213       Offices of Other Health Practitioners                    \n",
       "3 4        622       Hospitals                                                \n",
       "  naic_prob cen_ind_code\n",
       "1 0.9999990 8560        \n",
       "2 0.9719890 8080        \n",
       "3 0.9999975 8190        \n",
       "  cen_ind_title                                             soc_code\n",
       "1 Performing Arts, Spectator Sports, and Related Industries 27-2031 \n",
       "2 Offices of Other Health Practitioners                     29-1199 \n",
       "3 Hospitals                                                 29-1141 \n",
       "  soc_title                                               soc_prob \n",
       "1 Dancers                                                 0.9995087\n",
       "2 Health Diagnosing and Treating Practitioners, All Other 0.9988512\n",
       "3 Registered Nurses                                       1.0000000\n",
       "  cen_occ_code cen_occ_title                                          \n",
       "1 2740         Dancers and Choreographers                             \n",
       "2 3260         Health Diagnosing and Treating Practitioners, All Other\n",
       "3 3255         Registered Nurses                                      "
      ]
     },
     "metadata": {},
     "output_type": "display_data"
    }
   ],
   "source": [
    "df"
   ]
  },
  {
   "cell_type": "code",
   "execution_count": null,
   "id": "340ac973",
   "metadata": {},
   "outputs": [],
   "source": []
  }
 ],
 "metadata": {
  "kernelspec": {
   "display_name": "R",
   "language": "R",
   "name": "ir"
  },
  "language_info": {
   "codemirror_mode": "r",
   "file_extension": ".r",
   "mimetype": "text/x-r-source",
   "name": "R",
   "pygments_lexer": "r",
   "version": "4.1.3"
  }
 },
 "nbformat": 4,
 "nbformat_minor": 5
}
