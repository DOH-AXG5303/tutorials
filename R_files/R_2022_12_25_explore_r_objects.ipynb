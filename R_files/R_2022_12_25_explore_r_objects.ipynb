{
 "cells": [
  {
   "cell_type": "markdown",
   "id": "563ecc09",
   "metadata": {},
   "source": [
    "# Explore R Objects\n",
    " - difference between lists and dataframes\n",
    " - triple bang (!!!) vs two bang (!!)\n",
    " - dplyr functions pros cons"
   ]
  },
  {
   "cell_type": "markdown",
   "id": "930a18d5",
   "metadata": {},
   "source": [
    "Explore the list Object\n",
    " - list came be composed of different data types\n",
    " - lists can have names but are not required"
   ]
  },
  {
   "cell_type": "code",
   "execution_count": null,
   "id": "0a8be677",
   "metadata": {},
   "outputs": [],
   "source": [
    "l1 <- list(\"A\" = 1:2, \"B\" = 3:10, \"C\" = 12345, \"D\" = \"some text\", 3.145)\n",
    "l1"
   ]
  },
  {
   "cell_type": "markdown",
   "id": "8ff5b032",
   "metadata": {},
   "source": [
    " - can access the list element by name or by index\n",
    " - can iterate over names of lists or by the list elements"
   ]
  },
  {
   "cell_type": "code",
   "execution_count": null,
   "id": "578bdb91",
   "metadata": {},
   "outputs": [],
   "source": [
    "l1$A"
   ]
  },
  {
   "cell_type": "code",
   "execution_count": null,
   "id": "dd971651",
   "metadata": {},
   "outputs": [],
   "source": [
    "typeof(l1$A)"
   ]
  },
  {
   "cell_type": "code",
   "execution_count": null,
   "id": "a7c536a5",
   "metadata": {},
   "outputs": [],
   "source": [
    "names(l1)"
   ]
  },
  {
   "cell_type": "code",
   "execution_count": null,
   "id": "ac2a1fea",
   "metadata": {},
   "outputs": [],
   "source": [
    "typeof(names(l1))"
   ]
  },
  {
   "cell_type": "code",
   "execution_count": null,
   "id": "1cf40e95",
   "metadata": {},
   "outputs": [],
   "source": [
    "char1 <- names(l1)\n",
    "print(char1[1])\n",
    "print(char1[5])\n",
    "print(char1[1:5])"
   ]
  },
  {
   "cell_type": "code",
   "execution_count": null,
   "id": "f5994cfb",
   "metadata": {},
   "outputs": [],
   "source": [
    "for (i in names(l1)){\n",
    "    print(i)\n",
    "    print(typeof(i))\n",
    "}"
   ]
  },
  {
   "cell_type": "markdown",
   "id": "9e1947c8",
   "metadata": {},
   "source": [
    "### What is a !!! and how does it work?"
   ]
  },
  {
   "cell_type": "code",
   "execution_count": 1,
   "id": "91a63750",
   "metadata": {},
   "outputs": [
    {
     "data": {
      "text/html": [
       "<table class=\"dataframe\">\n",
       "<caption>A data.frame: 6 × 11</caption>\n",
       "<thead>\n",
       "\t<tr><th></th><th scope=col>mpg</th><th scope=col>cyl</th><th scope=col>disp</th><th scope=col>hp</th><th scope=col>drat</th><th scope=col>wt</th><th scope=col>qsec</th><th scope=col>vs</th><th scope=col>am</th><th scope=col>gear</th><th scope=col>carb</th></tr>\n",
       "\t<tr><th></th><th scope=col>&lt;dbl&gt;</th><th scope=col>&lt;dbl&gt;</th><th scope=col>&lt;dbl&gt;</th><th scope=col>&lt;dbl&gt;</th><th scope=col>&lt;dbl&gt;</th><th scope=col>&lt;dbl&gt;</th><th scope=col>&lt;dbl&gt;</th><th scope=col>&lt;dbl&gt;</th><th scope=col>&lt;dbl&gt;</th><th scope=col>&lt;dbl&gt;</th><th scope=col>&lt;dbl&gt;</th></tr>\n",
       "</thead>\n",
       "<tbody>\n",
       "\t<tr><th scope=row>Mazda RX4</th><td>21.0</td><td>6</td><td>160</td><td>110</td><td>3.90</td><td>2.620</td><td>16.46</td><td>0</td><td>1</td><td>4</td><td>4</td></tr>\n",
       "\t<tr><th scope=row>Mazda RX4 Wag</th><td>21.0</td><td>6</td><td>160</td><td>110</td><td>3.90</td><td>2.875</td><td>17.02</td><td>0</td><td>1</td><td>4</td><td>4</td></tr>\n",
       "\t<tr><th scope=row>Datsun 710</th><td>22.8</td><td>4</td><td>108</td><td> 93</td><td>3.85</td><td>2.320</td><td>18.61</td><td>1</td><td>1</td><td>4</td><td>1</td></tr>\n",
       "\t<tr><th scope=row>Hornet 4 Drive</th><td>21.4</td><td>6</td><td>258</td><td>110</td><td>3.08</td><td>3.215</td><td>19.44</td><td>1</td><td>0</td><td>3</td><td>1</td></tr>\n",
       "\t<tr><th scope=row>Hornet Sportabout</th><td>18.7</td><td>8</td><td>360</td><td>175</td><td>3.15</td><td>3.440</td><td>17.02</td><td>0</td><td>0</td><td>3</td><td>2</td></tr>\n",
       "\t<tr><th scope=row>Valiant</th><td>18.1</td><td>6</td><td>225</td><td>105</td><td>2.76</td><td>3.460</td><td>20.22</td><td>1</td><td>0</td><td>3</td><td>1</td></tr>\n",
       "</tbody>\n",
       "</table>\n"
      ],
      "text/latex": [
       "A data.frame: 6 × 11\n",
       "\\begin{tabular}{r|lllllllllll}\n",
       "  & mpg & cyl & disp & hp & drat & wt & qsec & vs & am & gear & carb\\\\\n",
       "  & <dbl> & <dbl> & <dbl> & <dbl> & <dbl> & <dbl> & <dbl> & <dbl> & <dbl> & <dbl> & <dbl>\\\\\n",
       "\\hline\n",
       "\tMazda RX4 & 21.0 & 6 & 160 & 110 & 3.90 & 2.620 & 16.46 & 0 & 1 & 4 & 4\\\\\n",
       "\tMazda RX4 Wag & 21.0 & 6 & 160 & 110 & 3.90 & 2.875 & 17.02 & 0 & 1 & 4 & 4\\\\\n",
       "\tDatsun 710 & 22.8 & 4 & 108 &  93 & 3.85 & 2.320 & 18.61 & 1 & 1 & 4 & 1\\\\\n",
       "\tHornet 4 Drive & 21.4 & 6 & 258 & 110 & 3.08 & 3.215 & 19.44 & 1 & 0 & 3 & 1\\\\\n",
       "\tHornet Sportabout & 18.7 & 8 & 360 & 175 & 3.15 & 3.440 & 17.02 & 0 & 0 & 3 & 2\\\\\n",
       "\tValiant & 18.1 & 6 & 225 & 105 & 2.76 & 3.460 & 20.22 & 1 & 0 & 3 & 1\\\\\n",
       "\\end{tabular}\n"
      ],
      "text/markdown": [
       "\n",
       "A data.frame: 6 × 11\n",
       "\n",
       "| <!--/--> | mpg &lt;dbl&gt; | cyl &lt;dbl&gt; | disp &lt;dbl&gt; | hp &lt;dbl&gt; | drat &lt;dbl&gt; | wt &lt;dbl&gt; | qsec &lt;dbl&gt; | vs &lt;dbl&gt; | am &lt;dbl&gt; | gear &lt;dbl&gt; | carb &lt;dbl&gt; |\n",
       "|---|---|---|---|---|---|---|---|---|---|---|---|\n",
       "| Mazda RX4 | 21.0 | 6 | 160 | 110 | 3.90 | 2.620 | 16.46 | 0 | 1 | 4 | 4 |\n",
       "| Mazda RX4 Wag | 21.0 | 6 | 160 | 110 | 3.90 | 2.875 | 17.02 | 0 | 1 | 4 | 4 |\n",
       "| Datsun 710 | 22.8 | 4 | 108 |  93 | 3.85 | 2.320 | 18.61 | 1 | 1 | 4 | 1 |\n",
       "| Hornet 4 Drive | 21.4 | 6 | 258 | 110 | 3.08 | 3.215 | 19.44 | 1 | 0 | 3 | 1 |\n",
       "| Hornet Sportabout | 18.7 | 8 | 360 | 175 | 3.15 | 3.440 | 17.02 | 0 | 0 | 3 | 2 |\n",
       "| Valiant | 18.1 | 6 | 225 | 105 | 2.76 | 3.460 | 20.22 | 1 | 0 | 3 | 1 |\n",
       "\n"
      ],
      "text/plain": [
       "                  mpg  cyl disp hp  drat wt    qsec  vs am gear carb\n",
       "Mazda RX4         21.0 6   160  110 3.90 2.620 16.46 0  1  4    4   \n",
       "Mazda RX4 Wag     21.0 6   160  110 3.90 2.875 17.02 0  1  4    4   \n",
       "Datsun 710        22.8 4   108   93 3.85 2.320 18.61 1  1  4    1   \n",
       "Hornet 4 Drive    21.4 6   258  110 3.08 3.215 19.44 1  0  3    1   \n",
       "Hornet Sportabout 18.7 8   360  175 3.15 3.440 17.02 0  0  3    2   \n",
       "Valiant           18.1 6   225  105 2.76 3.460 20.22 1  0  3    1   "
      ]
     },
     "metadata": {},
     "output_type": "display_data"
    }
   ],
   "source": [
    "data(mtcars)\n",
    "head(mtcars)"
   ]
  },
  {
   "cell_type": "code",
   "execution_count": null,
   "id": "d33a7585",
   "metadata": {},
   "outputs": [],
   "source": [
    "library(dplyr)\n",
    "cols <- c(\"cyl\", \"hp\", \"wt\")\n",
    "select(mtcars, cols)"
   ]
  },
  {
   "cell_type": "code",
   "execution_count": null,
   "id": "dfb93bfb",
   "metadata": {},
   "outputs": [],
   "source": [
    "mtcars %>% select(all_of(cols))"
   ]
  },
  {
   "cell_type": "code",
   "execution_count": 2,
   "id": "1636a3f1",
   "metadata": {},
   "outputs": [
    {
     "ename": "ERROR",
     "evalue": "Error in mtcars %>% select(!!!cols2): could not find function \"%>%\"\n",
     "output_type": "error",
     "traceback": [
      "Error in mtcars %>% select(!!!cols2): could not find function \"%>%\"\nTraceback:\n"
     ]
    }
   ],
   "source": [
    "cols2 <- list(\"cyl\", \"hp\", \"wt\")\n",
    "mtcars %>% select(!!!cols2)"
   ]
  },
  {
   "cell_type": "code",
   "execution_count": 5,
   "id": "33dd1381",
   "metadata": {},
   "outputs": [
    {
     "ename": "ERROR",
     "evalue": "Error in mtcars %>% select(!!!cols): could not find function \"%>%\"\n",
     "output_type": "error",
     "traceback": [
      "Error in mtcars %>% select(!!!cols): could not find function \"%>%\"\nTraceback:\n"
     ]
    }
   ],
   "source": [
    "mtcars %>% select(!!!cols)"
   ]
  },
  {
   "cell_type": "code",
   "execution_count": 6,
   "id": "1e239528",
   "metadata": {},
   "outputs": [
    {
     "ename": "ERROR",
     "evalue": "Error in `[.data.frame`(mtcars, cols): object 'cols' not found\n",
     "output_type": "error",
     "traceback": [
      "Error in `[.data.frame`(mtcars, cols): object 'cols' not found\nTraceback:\n",
      "1. mtcars[cols]",
      "2. `[.data.frame`(mtcars, cols)"
     ]
    }
   ],
   "source": [
    "mtcars[cols]"
   ]
  },
  {
   "cell_type": "code",
   "execution_count": null,
   "id": "ce718485",
   "metadata": {},
   "outputs": [],
   "source": [
    "mtcars[!!!cols]"
   ]
  },
  {
   "cell_type": "code",
   "execution_count": null,
   "id": "269212c3",
   "metadata": {},
   "outputs": [],
   "source": [
    "!!cols"
   ]
  },
  {
   "cell_type": "code",
   "execution_count": null,
   "id": "430c70bc",
   "metadata": {},
   "outputs": [],
   "source": [
    "typeof(mtcars)"
   ]
  },
  {
   "cell_type": "code",
   "execution_count": null,
   "id": "a5d408f0",
   "metadata": {},
   "outputs": [],
   "source": [
    "test_df <- tibble(a = 1, b = 1, c = 1, d = 1)\n",
    "\n",
    "test_df %>%\n",
    "  select(1, 2, 3)"
   ]
  },
  {
   "cell_type": "code",
   "execution_count": null,
   "id": "0c8f1dd6",
   "metadata": {},
   "outputs": [],
   "source": [
    "test_df"
   ]
  },
  {
   "cell_type": "code",
   "execution_count": 8,
   "id": "249a8c20",
   "metadata": {},
   "outputs": [
    {
     "name": "stderr",
     "output_type": "stream",
     "text": [
      "\n",
      "Attaching package: 'dplyr'\n",
      "\n",
      "\n",
      "The following objects are masked from 'package:stats':\n",
      "\n",
      "    filter, lag\n",
      "\n",
      "\n",
      "The following objects are masked from 'package:base':\n",
      "\n",
      "    intersect, setdiff, setequal, union\n",
      "\n",
      "\n"
     ]
    }
   ],
   "source": [
    "library(dplyr)"
   ]
  },
  {
   "cell_type": "code",
   "execution_count": null,
   "id": "9e6e3f33",
   "metadata": {},
   "outputs": [],
   "source": []
  }
 ],
 "metadata": {
  "kernelspec": {
   "display_name": "R",
   "language": "R",
   "name": "ir"
  },
  "language_info": {
   "codemirror_mode": "r",
   "file_extension": ".r",
   "mimetype": "text/x-r-source",
   "name": "R",
   "pygments_lexer": "r",
   "version": "4.1.3"
  }
 },
 "nbformat": 4,
 "nbformat_minor": 5
}
