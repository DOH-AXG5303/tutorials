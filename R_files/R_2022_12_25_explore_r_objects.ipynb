{
 "cells": [
  {
   "cell_type": "markdown",
   "id": "563ecc09",
   "metadata": {},
   "source": [
    "# Explore R Objects\n",
    " - difference between lists and dataframes\n",
    " - triple bang (!!!) vs two bang (!!)\n",
    " - dplyr functions pros cons"
   ]
  },
  {
   "cell_type": "markdown",
   "id": "930a18d5",
   "metadata": {},
   "source": [
    "Explore the list Object\n",
    " - list came be composed of different data types\n",
    " - lists can have names but are not required"
   ]
  },
  {
   "cell_type": "code",
   "execution_count": null,
   "id": "0a8be677",
   "metadata": {},
   "outputs": [],
   "source": [
    "l1 <- list(\"A\" = 1:2, \"B\" = 3:10, \"C\" = 12345, \"D\" = \"some text\", 3.145)\n",
    "l1"
   ]
  },
  {
   "cell_type": "markdown",
   "id": "8ff5b032",
   "metadata": {},
   "source": [
    " - can access the list element by name or by index\n",
    " - can iterate over names of lists or by the list elements"
   ]
  },
  {
   "cell_type": "code",
   "execution_count": null,
   "id": "578bdb91",
   "metadata": {},
   "outputs": [],
   "source": [
    "l1$A"
   ]
  },
  {
   "cell_type": "code",
   "execution_count": null,
   "id": "dd971651",
   "metadata": {},
   "outputs": [],
   "source": [
    "typeof(l1$A)"
   ]
  },
  {
   "cell_type": "code",
   "execution_count": null,
   "id": "a7c536a5",
   "metadata": {},
   "outputs": [],
   "source": [
    "names(l1)"
   ]
  },
  {
   "cell_type": "code",
   "execution_count": null,
   "id": "ac2a1fea",
   "metadata": {},
   "outputs": [],
   "source": [
    "typeof(names(l1))"
   ]
  },
  {
   "cell_type": "code",
   "execution_count": null,
   "id": "1cf40e95",
   "metadata": {},
   "outputs": [],
   "source": [
    "char1 <- names(l1)\n",
    "print(char1[1])\n",
    "print(char1[5])\n",
    "print(char1[1:5])"
   ]
  },
  {
   "cell_type": "code",
   "execution_count": null,
   "id": "f5994cfb",
   "metadata": {},
   "outputs": [],
   "source": [
    "for (i in names(l1)){\n",
    "    print(i)\n",
    "    print(typeof(i))\n",
    "}"
   ]
  },
  {
   "cell_type": "markdown",
   "id": "9e1947c8",
   "metadata": {},
   "source": [
    "### What is a !!! and how does it work?"
   ]
  },
  {
   "cell_type": "code",
   "execution_count": null,
   "id": "91a63750",
   "metadata": {},
   "outputs": [],
   "source": [
    "data(mtcars)\n",
    "head(mtcars)"
   ]
  },
  {
   "cell_type": "code",
   "execution_count": null,
   "id": "d33a7585",
   "metadata": {},
   "outputs": [],
   "source": [
    "library(dplyr)\n",
    "cols <- c(\"cyl\", \"hp\", \"wt\")\n",
    "select(mtcars, cols)"
   ]
  },
  {
   "cell_type": "code",
   "execution_count": null,
   "id": "dfb93bfb",
   "metadata": {},
   "outputs": [],
   "source": [
    "mtcars %>% select(all_of(cols))"
   ]
  },
  {
   "cell_type": "code",
   "execution_count": null,
   "id": "ac04805e-b97b-4d33-8663-b76968421669",
   "metadata": {},
   "outputs": [],
   "source": [
    "cols2 <- list(\"cyl\", \"hp\", \"wt\")\n"
   ]
  },
  {
   "cell_type": "code",
   "execution_count": null,
   "id": "1636a3f1",
   "metadata": {},
   "outputs": [],
   "source": [
    "cols2 <- list(\"cyl\", \"hp\", \"wt\")\n",
    "mtcars %>% select(!!!cols2)"
   ]
  },
  {
   "cell_type": "code",
   "execution_count": null,
   "id": "33dd1381",
   "metadata": {},
   "outputs": [],
   "source": [
    "mtcars %>% select(!!!cols)"
   ]
  },
  {
   "cell_type": "code",
   "execution_count": null,
   "id": "1e239528",
   "metadata": {},
   "outputs": [],
   "source": [
    "mtcars[cols]"
   ]
  },
  {
   "cell_type": "code",
   "execution_count": null,
   "id": "ce718485",
   "metadata": {},
   "outputs": [],
   "source": [
    "mtcars[!!!cols]"
   ]
  },
  {
   "cell_type": "code",
   "execution_count": null,
   "id": "269212c3",
   "metadata": {},
   "outputs": [],
   "source": [
    "!!cols"
   ]
  },
  {
   "cell_type": "code",
   "execution_count": null,
   "id": "430c70bc",
   "metadata": {},
   "outputs": [],
   "source": [
    "typeof(mtcars)"
   ]
  },
  {
   "cell_type": "code",
   "execution_count": null,
   "id": "a5d408f0",
   "metadata": {},
   "outputs": [],
   "source": [
    "test_df <- tibble(a = 1, b = 1, c = 1, d = 1)\n",
    "\n",
    "test_df %>%\n",
    "  select(1, 2, 3)"
   ]
  },
  {
   "cell_type": "code",
   "execution_count": null,
   "id": "0c8f1dd6",
   "metadata": {},
   "outputs": [],
   "source": [
    "test_df"
   ]
  },
  {
   "cell_type": "code",
   "execution_count": null,
   "id": "249a8c20",
   "metadata": {},
   "outputs": [],
   "source": [
    "library(dplyr)"
   ]
  },
  {
   "cell_type": "code",
   "execution_count": null,
   "id": "9e6e3f33",
   "metadata": {},
   "outputs": [],
   "source": []
  }
 ],
 "metadata": {
  "kernelspec": {
   "display_name": "R [conda env:Rtransform23]",
   "language": "R",
   "name": "conda-env-Rtransform23-r"
  },
  "language_info": {
   "codemirror_mode": "r",
   "file_extension": ".r",
   "mimetype": "text/x-r-source",
   "name": "R",
   "pygments_lexer": "r",
   "version": "4.1.3"
  }
 },
 "nbformat": 4,
 "nbformat_minor": 5
}
